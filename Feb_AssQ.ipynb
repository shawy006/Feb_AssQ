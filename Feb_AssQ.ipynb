{
 "cells": [
  {
   "cell_type": "code",
   "execution_count": 5,
   "id": "f5618c31",
   "metadata": {},
   "outputs": [
    {
     "data": {
      "text/plain": [
       "4134711838987085478833841242112000"
      ]
     },
     "execution_count": 5,
     "metadata": {},
     "output_type": "execute_result"
    }
   ],
   "source": [
    "list1 = [1,2,3,4, [44,55,66, True], False, (34,56,78,89,34), {1,2,3,3,2,1}, {1:34, \"key2\": [55, 67, 78, 89], 4: (45,\n",
    "22, 61, 34)}, [56, 'data science'], 'Machine Learning']\n",
    "def product(list1):\n",
    "    final=[]\n",
    "    for i in list1:\n",
    "        if type(i)==int:\n",
    "            final.append(i)\n",
    "        elif type(i)==list  or type(i)==tuple:\n",
    "            for j in i:\n",
    "                if type(j)==int:\n",
    "                    final.append(j)\n",
    "        elif type(i)==set:\n",
    "            for s in list(i):\n",
    "                if type(s)==int:\n",
    "                    final.append(s)\n",
    "        elif type(i)==dict:\n",
    "            for k in i.keys():\n",
    "                if type(k)==int:\n",
    "                    final.append(k)\n",
    "            for v in i.values():\n",
    "                if type(v)==int:\n",
    "                    final.append(v)\n",
    "                if type(v)==list:  \n",
    "                    for jer in v:\n",
    "                        if type(jer)==int:\n",
    "                            final.append(jer)\n",
    "                if type(v)==tuple:\n",
    "                    for jer in v:\n",
    "                        if type(jer)==int:\n",
    "                            final.append(jer)\n",
    "                    \n",
    "            \n",
    "    return final\n",
    "from functools import reduce\n",
    "reduce(lambda x,y: x*y , product(list1))"
   ]
  },
  {
   "cell_type": "code",
   "execution_count": 23,
   "id": "da6ff80b",
   "metadata": {},
   "outputs": [
    {
     "name": "stdout",
     "output_type": "stream",
     "text": [
      "r$dzmg$gl$yvxlnv$z$wzgz$hxrvmgrhg\n"
     ]
    }
   ],
   "source": [
    "Input= 'I want to become a Data Scientist'\n",
    "alpha=['a','b','c','d','e','f','g','h','i','j','k','l','m','n','o','p','q','r','s','t','u','v','w','x','y','z']\n",
    "final=''\n",
    "for i in Input.lower().replace(' ','$'):\n",
    "    if i=='$':\n",
    "        final+=i\n",
    "    else:\n",
    "        ind=alpha.index(i)\n",
    "        encry=alpha[::-1][ind]\n",
    "        final+=encry\n",
    "print(final)\n",
    "        \n",
    "        \n",
    "        \n",
    "    \n",
    "    \n",
    "    \n",
    "    "
   ]
  },
  {
   "cell_type": "code",
   "execution_count": null,
   "id": "a6ee611e",
   "metadata": {},
   "outputs": [],
   "source": []
  }
 ],
 "metadata": {
  "kernelspec": {
   "display_name": "Python 3 (ipykernel)",
   "language": "python",
   "name": "python3"
  },
  "language_info": {
   "codemirror_mode": {
    "name": "ipython",
    "version": 3
   },
   "file_extension": ".py",
   "mimetype": "text/x-python",
   "name": "python",
   "nbconvert_exporter": "python",
   "pygments_lexer": "ipython3",
   "version": "3.9.13"
  }
 },
 "nbformat": 4,
 "nbformat_minor": 5
}
